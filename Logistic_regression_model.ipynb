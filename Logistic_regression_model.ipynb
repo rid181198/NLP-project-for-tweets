{
 "cells": [
  {
   "cell_type": "markdown",
   "id": "829a1812",
   "metadata": {},
   "source": [
    "## Combining all the tokens into one and ordered by the sentence ID"
   ]
  },
  {
   "cell_type": "code",
   "execution_count": 7,
   "id": "36b5764c",
   "metadata": {},
   "outputs": [],
   "source": [
    "#basic libraries\n",
    "import numpy as np\n",
    "import matplotlib.pyplot as plt\n",
    "import scipy as sp\n",
    "import math\n",
    "import pandas as pd\n",
    "import re"
   ]
  },
  {
   "cell_type": "code",
   "execution_count": 8,
   "id": "b08f9acc",
   "metadata": {},
   "outputs": [],
   "source": [
    "#text processing libraries\n",
    "import nltk\n",
    "\n",
    "from nltk.tokenize import sent_tokenize, word_tokenize\n",
    "from nltk.stem.wordnet import WordNetLemmatizer\n",
    "from nltk.stem import PorterStemmer\n",
    "\n",
    "\n",
    "#stopwords\n",
    "from nltk.corpus import stopwords\n",
    "from nltk.corpus import wordnet\n",
    "from string import punctuation\n",
    "import gensim\n",
    "from gensim.parsing.preprocessing import remove_stopwords, STOPWORDS\n",
    "from sklearn.feature_extraction.text import ENGLISH_STOP_WORDS"
   ]
  },
  {
   "cell_type": "code",
   "execution_count": 9,
   "id": "05528b42",
   "metadata": {},
   "outputs": [],
   "source": [
    "data = pd.read_csv('./train.csv')\n",
    "data.fillna('', inplace=True)\n",
    "\n",
    "data['tokenized_text'] = \" \"\n",
    "data['tokenized_key'] = \" \""
   ]
  },
  {
   "cell_type": "code",
   "execution_count": 10,
   "id": "09a1dfeb",
   "metadata": {},
   "outputs": [],
   "source": [
    "stop_words = set(stopwords.words('english'))\n",
    "punctuation = list(punctuation)\n",
    "gensimwords = STOPWORDS\n",
    "sklearnwords = ENGLISH_STOP_WORDS\n",
    "num_pattern = r'[0-9]'"
   ]
  },
  {
   "cell_type": "code",
   "execution_count": 11,
   "id": "c27d410c",
   "metadata": {},
   "outputs": [],
   "source": [
    "\n",
    "porter = PorterStemmer()\n",
    "def tokenized_stop(string):\n",
    "    string = re.sub(num_pattern, '', string)\n",
    "    string = re.sub(r'http\\S+', '', string)\n",
    "    \n",
    "    #tokenizing the words\n",
    "    string = word_tokenize(string)\n",
    "    \n",
    "    #ignoring the unnecessary words\n",
    "    string_list = []\n",
    "    for words in string:\n",
    "        words = words.casefold()\n",
    "        if (words in stop_words) or (words in punctuation) or (words in gensimwords) or (words in sklearnwords):\n",
    "            pass\n",
    "        else:\n",
    "            words = porter.stem(words)\n",
    "            string_list.append(words)\n",
    "             \n",
    "    return string_list\n",
    "\n"
   ]
  },
  {
   "cell_type": "code",
   "execution_count": 12,
   "id": "4f1f7dee",
   "metadata": {},
   "outputs": [],
   "source": [
    "for i in range(len(data['text'])):\n",
    "    data.at[i,'tokenized_text'] = tokenized_stop(data['text'][i])\n",
    "    data.at[i,'tokenized_key'] = tokenized_stop(data['keyword'][i])"
   ]
  },
  {
   "cell_type": "code",
   "execution_count": 13,
   "id": "9f6d47ca",
   "metadata": {},
   "outputs": [],
   "source": [
    "\n",
    "porter = PorterStemmer()\n",
    "def tokenized_stop(string):\n",
    "    string = re.sub(num_pattern, '', string)\n",
    "    string = re.sub(r'http\\S+', '', string)\n",
    "    \n",
    "    #tokenizing the words\n",
    "    string = word_tokenize(string)\n",
    "    \n",
    "    #ignoring the unnecessary words\n",
    "    string_list = []\n",
    "    for words in string:\n",
    "        words = words.casefold()\n",
    "        if (words in stop_words) or (words in punctuation) or (words in gensimwords) or (words in sklearnwords):\n",
    "            pass\n",
    "        else:\n",
    "            words = porter.stem(words)\n",
    "            string_list.append(words)\n",
    "             \n",
    "    return string_list\n",
    "\n"
   ]
  },
  {
   "cell_type": "code",
   "execution_count": 14,
   "id": "e700f638",
   "metadata": {},
   "outputs": [],
   "source": [
    "stop_words = set(stopwords.words('english'))\n",
    "punctuation = list(punctuation)\n",
    "gensimwords = STOPWORDS\n",
    "sklearnwords = ENGLISH_STOP_WORDS\n",
    "num_pattern = r'[0-9]'"
   ]
  },
  {
   "cell_type": "code",
   "execution_count": 15,
   "id": "7454d558",
   "metadata": {},
   "outputs": [],
   "source": [
    "all_sents=[]\n",
    "for i in range(len(data['tokenized_text'])):\n",
    "    string=''\n",
    "    for j in data['tokenized_text'][i]:\n",
    "        string = string  + j + ' '\n",
    "    all_sents.append(string)\n"
   ]
  },
  {
   "cell_type": "code",
   "execution_count": 16,
   "id": "68c3f6ac",
   "metadata": {},
   "outputs": [],
   "source": [
    "from sklearn.feature_extraction.text import CountVectorizer\n",
    "vectorizer = CountVectorizer()\n",
    "#vectorizer.fit(all_words)\n",
    "X_train_counts = vectorizer.fit_transform(all_sents)"
   ]
  },
  {
   "cell_type": "code",
   "execution_count": 17,
   "id": "ce0ae05b",
   "metadata": {},
   "outputs": [],
   "source": [
    "from sklearn.feature_extraction.text import TfidfTransformer\n",
    "tfidf_transformer = TfidfTransformer()\n",
    "X_train_tfidf = tfidf_transformer.fit_transform(X_train_counts)"
   ]
  },
  {
   "cell_type": "code",
   "execution_count": 18,
   "id": "c5dc0e4c",
   "metadata": {},
   "outputs": [],
   "source": [
    "x_train = all_sents\n",
    "y_train = data['target']\n"
   ]
  },
  {
   "cell_type": "code",
   "execution_count": 19,
   "id": "2fbcc21f",
   "metadata": {},
   "outputs": [],
   "source": [
    "from sklearn.pipeline import Pipeline\n",
    "from sklearn.linear_model import LogisticRegression\n",
    "from sklearn.model_selection import GridSearchCV\n",
    "\n",
    "text_clf = Pipeline([('vect', CountVectorizer()),\\\n",
    "                     ('tfidf', TfidfTransformer()),\\\n",
    "                     ('clf', LogisticRegression(penalty = 'l2',C=0.01, max_iter=1000, solver = 'lbfgs',random_state=20 ))])"
   ]
  },
  {
   "cell_type": "code",
   "execution_count": 20,
   "id": "941d7280",
   "metadata": {},
   "outputs": [],
   "source": [
    "parameters = {'tfidf__use_idf': (True, False),\\\n",
    "               'clf__penalty': ('l1','l2','elasticnet'),\\\n",
    "                'clf__C': (1,0.1,0.01,0.001),\\\n",
    "             'clf__max_iter': (10,100,1000),\\\n",
    "             'clf__solver': ('lbfgs','lblinear','sag','newton-cg') }"
   ]
  },
  {
   "cell_type": "code",
   "execution_count": 21,
   "id": "22395253",
   "metadata": {},
   "outputs": [],
   "source": [
    "grid_clf = GridSearchCV(text_clf, parameters, n_jobs=-1)"
   ]
  },
  {
   "cell_type": "code",
   "execution_count": 22,
   "id": "a47836f6",
   "metadata": {
    "scrolled": true
   },
   "outputs": [
    {
     "name": "stderr",
     "output_type": "stream",
     "text": [
      "/Users/rid/opt/anaconda3/lib/python3.8/site-packages/sklearn/model_selection/_search.py:918: UserWarning: One or more of the test scores are non-finite: [       nan        nan        nan        nan        nan        nan\n",
      "        nan        nan 0.69408164 0.69014256        nan        nan\n",
      " 0.69854901 0.68922341 0.69907446 0.68961711        nan        nan\n",
      "        nan        nan        nan        nan        nan        nan\n",
      "        nan        nan        nan        nan        nan        nan\n",
      "        nan        nan 0.69894314 0.68974843        nan        nan\n",
      " 0.69907446 0.68974843 0.69907446 0.68974843        nan        nan\n",
      "        nan        nan        nan        nan        nan        nan\n",
      "        nan        nan        nan        nan        nan        nan\n",
      "        nan        nan 0.69894314 0.68974843        nan        nan\n",
      " 0.69907446 0.68974843 0.69907446 0.68974843        nan        nan\n",
      "        nan        nan        nan        nan        nan        nan\n",
      "        nan        nan        nan        nan        nan        nan\n",
      "        nan        nan 0.66058414 0.67306452        nan        nan\n",
      " 0.66045282 0.67319584 0.66071546 0.67306452        nan        nan\n",
      "        nan        nan        nan        nan        nan        nan\n",
      "        nan        nan        nan        nan        nan        nan\n",
      "        nan        nan 0.66071546 0.67306452        nan        nan\n",
      " 0.66071546 0.67306452 0.66071546 0.67306452        nan        nan\n",
      "        nan        nan        nan        nan        nan        nan\n",
      "        nan        nan        nan        nan        nan        nan\n",
      "        nan        nan 0.66071546 0.67306452        nan        nan\n",
      " 0.66071546 0.67306452 0.66071546 0.67306452        nan        nan\n",
      "        nan        nan        nan        nan        nan        nan\n",
      "        nan        nan        nan        nan        nan        nan\n",
      "        nan        nan 0.5703402  0.5703402         nan        nan\n",
      " 0.5703402  0.5703402  0.5703402  0.5703402         nan        nan\n",
      "        nan        nan        nan        nan        nan        nan\n",
      "        nan        nan        nan        nan        nan        nan\n",
      "        nan        nan 0.5703402  0.5703402         nan        nan\n",
      " 0.5703402  0.5703402  0.5703402  0.5703402         nan        nan\n",
      "        nan        nan        nan        nan        nan        nan\n",
      "        nan        nan        nan        nan        nan        nan\n",
      "        nan        nan 0.5703402  0.5703402         nan        nan\n",
      " 0.5703402  0.5703402  0.5703402  0.5703402         nan        nan\n",
      "        nan        nan        nan        nan        nan        nan\n",
      "        nan        nan        nan        nan        nan        nan\n",
      "        nan        nan 0.5703402  0.5703402         nan        nan\n",
      " 0.5703402  0.5703402  0.5703402  0.5703402         nan        nan\n",
      "        nan        nan        nan        nan        nan        nan\n",
      "        nan        nan        nan        nan        nan        nan\n",
      "        nan        nan 0.5703402  0.5703402         nan        nan\n",
      " 0.5703402  0.5703402  0.5703402  0.5703402         nan        nan\n",
      "        nan        nan        nan        nan        nan        nan\n",
      "        nan        nan        nan        nan        nan        nan\n",
      "        nan        nan 0.5703402  0.5703402         nan        nan\n",
      " 0.5703402  0.5703402  0.5703402  0.5703402         nan        nan\n",
      "        nan        nan        nan        nan        nan        nan]\n",
      "  warnings.warn(\n",
      "/Users/rid/opt/anaconda3/lib/python3.8/site-packages/sklearn/utils/optimize.py:202: ConvergenceWarning: newton-cg failed to converge. Increase the number of iterations.\n",
      "  warnings.warn(\"newton-cg failed to converge. Increase the \"\n"
     ]
    }
   ],
   "source": [
    "grid_clf = grid_clf.fit(x_train, y_train)"
   ]
  },
  {
   "cell_type": "code",
   "execution_count": 23,
   "id": "fd7f25ee",
   "metadata": {},
   "outputs": [
    {
     "name": "stdout",
     "output_type": "stream",
     "text": [
      "0.699074463137714\n",
      "{'clf__C': 1, 'clf__max_iter': 10, 'clf__penalty': 'l2', 'clf__solver': 'newton-cg', 'tfidf__use_idf': True}\n"
     ]
    }
   ],
   "source": [
    "print(grid_clf.best_score_)\n",
    "print(grid_clf.best_params_)"
   ]
  },
  {
   "cell_type": "code",
   "execution_count": null,
   "id": "c596e324",
   "metadata": {},
   "outputs": [],
   "source": []
  },
  {
   "cell_type": "code",
   "execution_count": 24,
   "id": "de5da874",
   "metadata": {},
   "outputs": [],
   "source": [
    "test_data = pd.read_csv('./test.csv')\n",
    "test_data.fillna('', inplace=True)\n",
    "\n",
    "test_data['tokenized_text'] = \" \"\n",
    "test_data['tokenized_key'] = \" \"\n",
    "\n"
   ]
  },
  {
   "cell_type": "code",
   "execution_count": 25,
   "id": "17108a87",
   "metadata": {},
   "outputs": [],
   "source": [
    "for i in range(len(test_data['text'])):\n",
    "    test_data.at[i,'tokenized_text'] = tokenized_stop(test_data['text'][i])\n",
    "    test_data.at[i,'tokenized_key'] = tokenized_stop(test_data['keyword'][i])"
   ]
  },
  {
   "cell_type": "code",
   "execution_count": 26,
   "id": "d78306c8",
   "metadata": {},
   "outputs": [],
   "source": [
    "all_sents=[]\n",
    "for i in range(len(test_data['tokenized_text'])):\n",
    "    string=''\n",
    "    for j in test_data['tokenized_text'][i]:\n",
    "        string = string  + j + ' '\n",
    "    all_sents.append(string)"
   ]
  },
  {
   "cell_type": "code",
   "execution_count": 27,
   "id": "c90c300d",
   "metadata": {},
   "outputs": [],
   "source": [
    "x_test = all_sents\n",
    "y_test = test_data['target']\n"
   ]
  },
  {
   "cell_type": "code",
   "execution_count": 28,
   "id": "d3a2958f",
   "metadata": {},
   "outputs": [],
   "source": [
    "predicted = grid_clf.predict(x_test)"
   ]
  },
  {
   "cell_type": "code",
   "execution_count": null,
   "id": "4c189ff8",
   "metadata": {},
   "outputs": [],
   "source": []
  }
 ],
 "metadata": {
  "kernelspec": {
   "display_name": "Python 3",
   "language": "python",
   "name": "python3"
  },
  "language_info": {
   "codemirror_mode": {
    "name": "ipython",
    "version": 3
   },
   "file_extension": ".py",
   "mimetype": "text/x-python",
   "name": "python",
   "nbconvert_exporter": "python",
   "pygments_lexer": "ipython3",
   "version": "3.8.8"
  }
 },
 "nbformat": 4,
 "nbformat_minor": 5
}
